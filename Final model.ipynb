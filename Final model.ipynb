{
 "cells": [
  {
   "cell_type": "code",
   "execution_count": 85,
   "id": "c041f35a",
   "metadata": {},
   "outputs": [
    {
     "data": {
      "text/html": [
       "<div>\n",
       "<style scoped>\n",
       "    .dataframe tbody tr th:only-of-type {\n",
       "        vertical-align: middle;\n",
       "    }\n",
       "\n",
       "    .dataframe tbody tr th {\n",
       "        vertical-align: top;\n",
       "    }\n",
       "\n",
       "    .dataframe thead th {\n",
       "        text-align: right;\n",
       "    }\n",
       "</style>\n",
       "<table border=\"1\" class=\"dataframe\">\n",
       "  <thead>\n",
       "    <tr style=\"text-align: right;\">\n",
       "      <th></th>\n",
       "      <th>age</th>\n",
       "      <th>workclass</th>\n",
       "      <th>education_level</th>\n",
       "      <th>education-num</th>\n",
       "      <th>marital-status</th>\n",
       "      <th>occupation</th>\n",
       "      <th>relationship</th>\n",
       "      <th>race</th>\n",
       "      <th>sex</th>\n",
       "      <th>capital-gain</th>\n",
       "      <th>capital-loss</th>\n",
       "      <th>hours-per-week</th>\n",
       "      <th>native-country</th>\n",
       "      <th>income</th>\n",
       "    </tr>\n",
       "  </thead>\n",
       "  <tbody>\n",
       "    <tr>\n",
       "      <th>0</th>\n",
       "      <td>39</td>\n",
       "      <td>State-gov</td>\n",
       "      <td>Bachelors</td>\n",
       "      <td>13.0</td>\n",
       "      <td>Never-married</td>\n",
       "      <td>Adm-clerical</td>\n",
       "      <td>Not-in-family</td>\n",
       "      <td>White</td>\n",
       "      <td>Male</td>\n",
       "      <td>2174.0</td>\n",
       "      <td>0.0</td>\n",
       "      <td>40.0</td>\n",
       "      <td>United-States</td>\n",
       "      <td>&lt;=50K</td>\n",
       "    </tr>\n",
       "    <tr>\n",
       "      <th>1</th>\n",
       "      <td>50</td>\n",
       "      <td>Self-emp-not-inc</td>\n",
       "      <td>Bachelors</td>\n",
       "      <td>13.0</td>\n",
       "      <td>Married-civ-spouse</td>\n",
       "      <td>Exec-managerial</td>\n",
       "      <td>Husband</td>\n",
       "      <td>White</td>\n",
       "      <td>Male</td>\n",
       "      <td>0.0</td>\n",
       "      <td>0.0</td>\n",
       "      <td>13.0</td>\n",
       "      <td>United-States</td>\n",
       "      <td>&lt;=50K</td>\n",
       "    </tr>\n",
       "    <tr>\n",
       "      <th>2</th>\n",
       "      <td>38</td>\n",
       "      <td>Private</td>\n",
       "      <td>HS-grad</td>\n",
       "      <td>9.0</td>\n",
       "      <td>Divorced</td>\n",
       "      <td>Handlers-cleaners</td>\n",
       "      <td>Not-in-family</td>\n",
       "      <td>White</td>\n",
       "      <td>Male</td>\n",
       "      <td>0.0</td>\n",
       "      <td>0.0</td>\n",
       "      <td>40.0</td>\n",
       "      <td>United-States</td>\n",
       "      <td>&lt;=50K</td>\n",
       "    </tr>\n",
       "    <tr>\n",
       "      <th>3</th>\n",
       "      <td>53</td>\n",
       "      <td>Private</td>\n",
       "      <td>11th</td>\n",
       "      <td>7.0</td>\n",
       "      <td>Married-civ-spouse</td>\n",
       "      <td>Handlers-cleaners</td>\n",
       "      <td>Husband</td>\n",
       "      <td>Black</td>\n",
       "      <td>Male</td>\n",
       "      <td>0.0</td>\n",
       "      <td>0.0</td>\n",
       "      <td>40.0</td>\n",
       "      <td>United-States</td>\n",
       "      <td>&lt;=50K</td>\n",
       "    </tr>\n",
       "    <tr>\n",
       "      <th>4</th>\n",
       "      <td>28</td>\n",
       "      <td>Private</td>\n",
       "      <td>Bachelors</td>\n",
       "      <td>13.0</td>\n",
       "      <td>Married-civ-spouse</td>\n",
       "      <td>Prof-specialty</td>\n",
       "      <td>Wife</td>\n",
       "      <td>Black</td>\n",
       "      <td>Female</td>\n",
       "      <td>0.0</td>\n",
       "      <td>0.0</td>\n",
       "      <td>40.0</td>\n",
       "      <td>Cuba</td>\n",
       "      <td>&lt;=50K</td>\n",
       "    </tr>\n",
       "  </tbody>\n",
       "</table>\n",
       "</div>"
      ],
      "text/plain": [
       "   age          workclass education_level  education-num       marital-status  \\\n",
       "0   39          State-gov       Bachelors           13.0        Never-married   \n",
       "1   50   Self-emp-not-inc       Bachelors           13.0   Married-civ-spouse   \n",
       "2   38            Private         HS-grad            9.0             Divorced   \n",
       "3   53            Private            11th            7.0   Married-civ-spouse   \n",
       "4   28            Private       Bachelors           13.0   Married-civ-spouse   \n",
       "\n",
       "           occupation    relationship    race      sex  capital-gain  \\\n",
       "0        Adm-clerical   Not-in-family   White     Male        2174.0   \n",
       "1     Exec-managerial         Husband   White     Male           0.0   \n",
       "2   Handlers-cleaners   Not-in-family   White     Male           0.0   \n",
       "3   Handlers-cleaners         Husband   Black     Male           0.0   \n",
       "4      Prof-specialty            Wife   Black   Female           0.0   \n",
       "\n",
       "   capital-loss  hours-per-week  native-country income  \n",
       "0           0.0            40.0   United-States  <=50K  \n",
       "1           0.0            13.0   United-States  <=50K  \n",
       "2           0.0            40.0   United-States  <=50K  \n",
       "3           0.0            40.0   United-States  <=50K  \n",
       "4           0.0            40.0            Cuba  <=50K  "
      ]
     },
     "metadata": {},
     "output_type": "display_data"
    }
   ],
   "source": [
    "# Import libraries necessary for this project\n",
    "import numpy as np\n",
    "import pandas as pd\n",
    "from time import time\n",
    "from IPython.display import display # Allows the use of display() for DataFrames\n",
    "\n",
    "# Import visualisation libraries\n",
    "import visuals as vs\n",
    "import seaborn as sns\n",
    "import matplotlib.pyplot as plt\n",
    "\n",
    "# Pretty display for notebooks\n",
    "%matplotlib inline\n",
    "\n",
    "from __future__ import division\n",
    "\n",
    "# Load the Census dataset\n",
    "data = pd.read_csv(\"census.csv\")\n",
    "\n",
    "# Success - Display the first record\n",
    "display(data.head(n=5))"
   ]
  },
  {
   "cell_type": "code",
   "execution_count": 86,
   "id": "0d025889",
   "metadata": {},
   "outputs": [
    {
     "name": "stdout",
     "output_type": "stream",
     "text": [
      "<class 'pandas.core.frame.DataFrame'>\n",
      "RangeIndex: 45222 entries, 0 to 45221\n",
      "Data columns (total 14 columns):\n",
      " #   Column           Non-Null Count  Dtype  \n",
      "---  ------           --------------  -----  \n",
      " 0   age              45222 non-null  int64  \n",
      " 1   workclass        45222 non-null  object \n",
      " 2   education_level  45222 non-null  object \n",
      " 3   education-num    45222 non-null  float64\n",
      " 4   marital-status   45222 non-null  object \n",
      " 5   occupation       45222 non-null  object \n",
      " 6   relationship     45222 non-null  object \n",
      " 7   race             45222 non-null  object \n",
      " 8   sex              45222 non-null  object \n",
      " 9   capital-gain     45222 non-null  float64\n",
      " 10  capital-loss     45222 non-null  float64\n",
      " 11  hours-per-week   45222 non-null  float64\n",
      " 12  native-country   45222 non-null  object \n",
      " 13  income           45222 non-null  object \n",
      "dtypes: float64(4), int64(1), object(9)\n",
      "memory usage: 4.8+ MB\n"
     ]
    }
   ],
   "source": [
    "data.info()"
   ]
  },
  {
   "cell_type": "code",
   "execution_count": 87,
   "id": "a8118372",
   "metadata": {},
   "outputs": [
    {
     "name": "stdout",
     "output_type": "stream",
     "text": [
      "Total number of records: 45222\n",
      "Individuals making more than $50,000: 11208\n",
      "Individuals making at most $50,000: 34014\n",
      "Percentage of individuals making more than $50,000: 24.78%\n"
     ]
    }
   ],
   "source": [
    "# TODO: Total number of records\n",
    "n_records = len(data)\n",
    "\n",
    "# TODO: Number of records where individual's income is more than $50,000\n",
    "n_greater_50k = len(data[data['income'] == '>50K'])\n",
    "\n",
    "# TODO: Number of records where individual's income is at most $50,000\n",
    "n_at_most_50k = len(data[data['income'] == '<=50K'])\n",
    "\n",
    "# TODO: Percentage of individuals whose income is more than $50,000\n",
    "greater_percent = 100 * n_greater_50k / n_records\n",
    "\n",
    "# Print the results\n",
    "print( \"Total number of records: {}\".format(n_records))\n",
    "print(\"Individuals making more than $50,000: {}\".format(n_greater_50k))\n",
    "print( \"Individuals making at most $50,000: {}\".format(n_at_most_50k))\n",
    "print( \"Percentage of individuals making more than $50,000: {:.2f}%\".format(greater_percent))"
   ]
  },
  {
   "cell_type": "code",
   "execution_count": 88,
   "id": "df577ccb",
   "metadata": {},
   "outputs": [
    {
     "name": "stderr",
     "output_type": "stream",
     "text": [
      "D:\\project\\FINDING_DONORS-main\\visuals.py:48: UserWarning: Matplotlib is currently using module://matplotlib_inline.backend_inline, which is a non-GUI backend, so cannot show the figure.\n",
      "  fig.show()\n"
     ]
    },
    {
     "data": {
      "image/png": "[encoded data removed]",
      "text/plain": [
       "<Figure size 792x360 with 2 Axes>"
      ]
     },
     "metadata": {
      "needs_background": "light"
     },
     "output_type": "display_data"
    }
   ],
   "source": [
    "# Split the data into features and target label\n",
    "\n",
    "income_raw = data['income']\n",
    "features_raw = data.drop('income', axis = 1)\n",
    "\n",
    "# Visualize skewed continuous features of original data\n",
    "vs.distribution(data)"
   ]
  },
  {
   "cell_type": "code",
   "execution_count": 89,
   "id": "6e6a6fcd",
   "metadata": {},
   "outputs": [
    {
     "name": "stderr",
     "output_type": "stream",
     "text": [
      "D:\\project\\FINDING_DONORS-main\\visuals.py:48: UserWarning: Matplotlib is currently using module://matplotlib_inline.backend_inline, which is a non-GUI backend, so cannot show the figure.\n",
      "  fig.show()\n"
     ]
    },
    {
     "data": {
      "image/png": "[encoded data removed]",
      "text/plain": [
       "<Figure size 792x360 with 2 Axes>"
      ]
     },
     "metadata": {
      "needs_background": "light"
     },
     "output_type": "display_data"
    }
   ],
   "source": [
    "# Log-transform the skewed features\n",
    "skewed = ['capital-gain', 'capital-loss']\n",
    "features_raw[skewed] = data[skewed].apply(lambda x: np.log(x + 1))\n",
    "\n",
    "# Visualize the new log distributions\n",
    "vs.distribution(features_raw, transformed = True)"
   ]
  },
  {
   "cell_type": "code",
   "execution_count": 120,
   "id": "87526a20",
   "metadata": {},
   "outputs": [
    {
     "data": {
      "text/html": [
       "<div>\n",
       "<style scoped>\n",
       "    .dataframe tbody tr th:only-of-type {\n",
       "        vertical-align: middle;\n",
       "    }\n",
       "\n",
       "    .dataframe tbody tr th {\n",
       "        vertical-align: top;\n",
       "    }\n",
       "\n",
       "    .dataframe thead th {\n",
       "        text-align: right;\n",
       "    }\n",
       "</style>\n",
       "<table border=\"1\" class=\"dataframe\">\n",
       "  <thead>\n",
       "    <tr style=\"text-align: right;\">\n",
       "      <th></th>\n",
       "      <th>age</th>\n",
       "      <th>workclass</th>\n",
       "      <th>education_level</th>\n",
       "      <th>education-num</th>\n",
       "      <th>marital-status</th>\n",
       "      <th>occupation</th>\n",
       "      <th>relationship</th>\n",
       "      <th>race</th>\n",
       "      <th>sex</th>\n",
       "      <th>capital-gain</th>\n",
       "      <th>capital-loss</th>\n",
       "      <th>hours-per-week</th>\n",
       "      <th>native-country</th>\n",
       "    </tr>\n",
       "  </thead>\n",
       "  <tbody>\n",
       "    <tr>\n",
       "      <th>0</th>\n",
       "      <td>39</td>\n",
       "      <td>5</td>\n",
       "      <td>9</td>\n",
       "      <td>13</td>\n",
       "      <td>4</td>\n",
       "      <td>0</td>\n",
       "      <td>1</td>\n",
       "      <td>4</td>\n",
       "      <td>1</td>\n",
       "      <td>7.68</td>\n",
       "      <td>0.0</td>\n",
       "      <td>40</td>\n",
       "      <td>38</td>\n",
       "    </tr>\n",
       "    <tr>\n",
       "      <th>1</th>\n",
       "      <td>50</td>\n",
       "      <td>4</td>\n",
       "      <td>9</td>\n",
       "      <td>13</td>\n",
       "      <td>2</td>\n",
       "      <td>3</td>\n",
       "      <td>0</td>\n",
       "      <td>4</td>\n",
       "      <td>1</td>\n",
       "      <td>0.00</td>\n",
       "      <td>0.0</td>\n",
       "      <td>13</td>\n",
       "      <td>38</td>\n",
       "    </tr>\n",
       "    <tr>\n",
       "      <th>2</th>\n",
       "      <td>38</td>\n",
       "      <td>2</td>\n",
       "      <td>11</td>\n",
       "      <td>9</td>\n",
       "      <td>0</td>\n",
       "      <td>5</td>\n",
       "      <td>1</td>\n",
       "      <td>4</td>\n",
       "      <td>1</td>\n",
       "      <td>0.00</td>\n",
       "      <td>0.0</td>\n",
       "      <td>40</td>\n",
       "      <td>38</td>\n",
       "    </tr>\n",
       "    <tr>\n",
       "      <th>3</th>\n",
       "      <td>53</td>\n",
       "      <td>2</td>\n",
       "      <td>1</td>\n",
       "      <td>7</td>\n",
       "      <td>2</td>\n",
       "      <td>5</td>\n",
       "      <td>0</td>\n",
       "      <td>2</td>\n",
       "      <td>1</td>\n",
       "      <td>0.00</td>\n",
       "      <td>0.0</td>\n",
       "      <td>40</td>\n",
       "      <td>38</td>\n",
       "    </tr>\n",
       "    <tr>\n",
       "      <th>4</th>\n",
       "      <td>28</td>\n",
       "      <td>2</td>\n",
       "      <td>9</td>\n",
       "      <td>13</td>\n",
       "      <td>2</td>\n",
       "      <td>9</td>\n",
       "      <td>5</td>\n",
       "      <td>2</td>\n",
       "      <td>0</td>\n",
       "      <td>0.00</td>\n",
       "      <td>0.0</td>\n",
       "      <td>40</td>\n",
       "      <td>4</td>\n",
       "    </tr>\n",
       "  </tbody>\n",
       "</table>\n",
       "</div>"
      ],
      "text/plain": [
       "   age  workclass  education_level  education-num  marital-status  occupation  \\\n",
       "0   39          5                9             13               4           0   \n",
       "1   50          4                9             13               2           3   \n",
       "2   38          2               11              9               0           5   \n",
       "3   53          2                1              7               2           5   \n",
       "4   28          2                9             13               2           9   \n",
       "\n",
       "   relationship  race  sex  capital-gain  capital-loss  hours-per-week  \\\n",
       "0             1     4    1          7.68           0.0              40   \n",
       "1             0     4    1          0.00           0.0              13   \n",
       "2             1     4    1          0.00           0.0              40   \n",
       "3             0     2    1          0.00           0.0              40   \n",
       "4             5     2    0          0.00           0.0              40   \n",
       "\n",
       "   native-country  \n",
       "0              38  \n",
       "1              38  \n",
       "2              38  \n",
       "3              38  \n",
       "4               4  "
      ]
     },
     "metadata": {},
     "output_type": "display_data"
    }
   ],
   "source": [
    "\n",
    "\n",
    "# Show an example of a record with scaling applied\n",
    "display(features_raw.head(n = 5))"
   ]
  },
  {
   "cell_type": "code",
   "execution_count": 93,
   "id": "e1784a48",
   "metadata": {},
   "outputs": [],
   "source": [
    "# TODO: One-hot encode the 'features_raw' data using pandas.get_dummies()\n",
    "# TODO: Encode the 'income_raw' data to numerical values\n",
    "income = income_raw.apply(lambda x: 1 if x == '>50K' else 0)"
   ]
  },
  {
   "cell_type": "code",
   "execution_count": 95,
   "id": "0991d69a",
   "metadata": {},
   "outputs": [
    {
     "data": {
      "text/html": [
       "<div>\n",
       "<style scoped>\n",
       "    .dataframe tbody tr th:only-of-type {\n",
       "        vertical-align: middle;\n",
       "    }\n",
       "\n",
       "    .dataframe tbody tr th {\n",
       "        vertical-align: top;\n",
       "    }\n",
       "\n",
       "    .dataframe thead th {\n",
       "        text-align: right;\n",
       "    }\n",
       "</style>\n",
       "<table border=\"1\" class=\"dataframe\">\n",
       "  <thead>\n",
       "    <tr style=\"text-align: right;\">\n",
       "      <th></th>\n",
       "      <th>age</th>\n",
       "      <th>workclass</th>\n",
       "      <th>education_level</th>\n",
       "      <th>education-num</th>\n",
       "      <th>marital-status</th>\n",
       "      <th>occupation</th>\n",
       "      <th>relationship</th>\n",
       "      <th>race</th>\n",
       "      <th>sex</th>\n",
       "      <th>capital-gain</th>\n",
       "      <th>capital-loss</th>\n",
       "      <th>hours-per-week</th>\n",
       "      <th>native-country</th>\n",
       "    </tr>\n",
       "  </thead>\n",
       "  <tbody>\n",
       "    <tr>\n",
       "      <th>0</th>\n",
       "      <td>39</td>\n",
       "      <td>5</td>\n",
       "      <td>9</td>\n",
       "      <td>13</td>\n",
       "      <td>4</td>\n",
       "      <td>0</td>\n",
       "      <td>1</td>\n",
       "      <td>4</td>\n",
       "      <td>1</td>\n",
       "      <td>7.68</td>\n",
       "      <td>0.0</td>\n",
       "      <td>40</td>\n",
       "      <td>38</td>\n",
       "    </tr>\n",
       "    <tr>\n",
       "      <th>1</th>\n",
       "      <td>50</td>\n",
       "      <td>4</td>\n",
       "      <td>9</td>\n",
       "      <td>13</td>\n",
       "      <td>2</td>\n",
       "      <td>3</td>\n",
       "      <td>0</td>\n",
       "      <td>4</td>\n",
       "      <td>1</td>\n",
       "      <td>0.00</td>\n",
       "      <td>0.0</td>\n",
       "      <td>13</td>\n",
       "      <td>38</td>\n",
       "    </tr>\n",
       "    <tr>\n",
       "      <th>2</th>\n",
       "      <td>38</td>\n",
       "      <td>2</td>\n",
       "      <td>11</td>\n",
       "      <td>9</td>\n",
       "      <td>0</td>\n",
       "      <td>5</td>\n",
       "      <td>1</td>\n",
       "      <td>4</td>\n",
       "      <td>1</td>\n",
       "      <td>0.00</td>\n",
       "      <td>0.0</td>\n",
       "      <td>40</td>\n",
       "      <td>38</td>\n",
       "    </tr>\n",
       "    <tr>\n",
       "      <th>3</th>\n",
       "      <td>53</td>\n",
       "      <td>2</td>\n",
       "      <td>1</td>\n",
       "      <td>7</td>\n",
       "      <td>2</td>\n",
       "      <td>5</td>\n",
       "      <td>0</td>\n",
       "      <td>2</td>\n",
       "      <td>1</td>\n",
       "      <td>0.00</td>\n",
       "      <td>0.0</td>\n",
       "      <td>40</td>\n",
       "      <td>38</td>\n",
       "    </tr>\n",
       "    <tr>\n",
       "      <th>4</th>\n",
       "      <td>28</td>\n",
       "      <td>2</td>\n",
       "      <td>9</td>\n",
       "      <td>13</td>\n",
       "      <td>2</td>\n",
       "      <td>9</td>\n",
       "      <td>5</td>\n",
       "      <td>2</td>\n",
       "      <td>0</td>\n",
       "      <td>0.00</td>\n",
       "      <td>0.0</td>\n",
       "      <td>40</td>\n",
       "      <td>4</td>\n",
       "    </tr>\n",
       "  </tbody>\n",
       "</table>\n",
       "</div>"
      ],
      "text/plain": [
       "   age  workclass  education_level  education-num  marital-status  occupation  \\\n",
       "0   39          5                9             13               4           0   \n",
       "1   50          4                9             13               2           3   \n",
       "2   38          2               11              9               0           5   \n",
       "3   53          2                1              7               2           5   \n",
       "4   28          2                9             13               2           9   \n",
       "\n",
       "   relationship  race  sex  capital-gain  capital-loss  hours-per-week  \\\n",
       "0             1     4    1          7.68           0.0              40   \n",
       "1             0     4    1          0.00           0.0              13   \n",
       "2             1     4    1          0.00           0.0              40   \n",
       "3             0     2    1          0.00           0.0              40   \n",
       "4             5     2    0          0.00           0.0              40   \n",
       "\n",
       "   native-country  \n",
       "0              38  \n",
       "1              38  \n",
       "2              38  \n",
       "3              38  \n",
       "4               4  "
      ]
     },
     "execution_count": 95,
     "metadata": {},
     "output_type": "execute_result"
    }
   ],
   "source": [
    "from sklearn.preprocessing import LabelEncoder\n",
    "\n",
    "# Create a LabelEncoder object\n",
    "label_encoder = LabelEncoder()\n",
    "\n",
    "# Define the categorical columns in your data\n",
    "categorical_columns = ['workclass', 'education_level', 'marital-status', 'occupation', 'relationship', 'race', 'sex', 'native-country']\n",
    "\n",
    "# Label encode the categorical columns\n",
    "for column in categorical_columns:\n",
    "    features_raw[column] = label_encoder.fit_transform(features_raw[column])\n",
    "    \n",
    "# Round the values of capital_gain and capital_loss to 1 decimal place\n",
    "features_raw['capital-gain'] = features_raw['capital-gain'].round(2)\n",
    "features_raw['capital-loss'] = features_raw['capital-loss'].round(2)\n",
    "# Convert education-num and hours-per-week to integers\n",
    "features_raw['education-num'] = features_raw['education-num'].astype(int)\n",
    "features_raw['hours-per-week'] = features_raw['hours-per-week'].astype(int)\n",
    "\n",
    "# Print the updated dataframe\n",
    "features_raw.head()\n"
   ]
  },
  {
   "cell_type": "code",
   "execution_count": 96,
   "id": "ce023864",
   "metadata": {},
   "outputs": [
    {
     "data": {
      "text/html": [
       "<div>\n",
       "<style scoped>\n",
       "    .dataframe tbody tr th:only-of-type {\n",
       "        vertical-align: middle;\n",
       "    }\n",
       "\n",
       "    .dataframe tbody tr th {\n",
       "        vertical-align: top;\n",
       "    }\n",
       "\n",
       "    .dataframe thead th {\n",
       "        text-align: right;\n",
       "    }\n",
       "</style>\n",
       "<table border=\"1\" class=\"dataframe\">\n",
       "  <thead>\n",
       "    <tr style=\"text-align: right;\">\n",
       "      <th></th>\n",
       "      <th>age</th>\n",
       "      <th>workclass</th>\n",
       "      <th>education_level</th>\n",
       "      <th>education-num</th>\n",
       "      <th>marital-status</th>\n",
       "      <th>occupation</th>\n",
       "      <th>relationship</th>\n",
       "      <th>race</th>\n",
       "      <th>sex</th>\n",
       "      <th>capital-gain</th>\n",
       "      <th>capital-loss</th>\n",
       "      <th>hours-per-week</th>\n",
       "      <th>native-country</th>\n",
       "    </tr>\n",
       "  </thead>\n",
       "  <tbody>\n",
       "    <tr>\n",
       "      <th>0</th>\n",
       "      <td>39</td>\n",
       "      <td>5</td>\n",
       "      <td>9</td>\n",
       "      <td>13</td>\n",
       "      <td>4</td>\n",
       "      <td>0</td>\n",
       "      <td>1</td>\n",
       "      <td>4</td>\n",
       "      <td>1</td>\n",
       "      <td>7.68</td>\n",
       "      <td>0.0</td>\n",
       "      <td>40</td>\n",
       "      <td>38</td>\n",
       "    </tr>\n",
       "  </tbody>\n",
       "</table>\n",
       "</div>"
      ],
      "text/plain": [
       "   age  workclass  education_level  education-num  marital-status  occupation  \\\n",
       "0   39          5                9             13               4           0   \n",
       "\n",
       "   relationship  race  sex  capital-gain  capital-loss  hours-per-week  \\\n",
       "0             1     4    1          7.68           0.0              40   \n",
       "\n",
       "   native-country  \n",
       "0              38  "
      ]
     },
     "metadata": {},
     "output_type": "display_data"
    }
   ],
   "source": [
    "# Show an example of a record with scaling applied\n",
    "display(features_raw.head(n = 1))"
   ]
  },
  {
   "cell_type": "code",
   "execution_count": 122,
   "id": "e56dccfe",
   "metadata": {},
   "outputs": [
    {
     "name": "stdout",
     "output_type": "stream",
     "text": [
      "[' State-gov' ' Self-emp-not-inc' ' Private' ' Federal-gov' ' Local-gov'\n",
      " ' Self-emp-inc' ' Without-pay']\n"
     ]
    }
   ],
   "source": [
    "workclass_unique_values = data['workclass'].unique()\n",
    "print(workclass_unique_values)"
   ]
  },
  {
   "cell_type": "code",
   "execution_count": 123,
   "id": "1c8d6987",
   "metadata": {},
   "outputs": [
    {
     "name": "stdout",
     "output_type": "stream",
     "text": [
      "[5 4 2 0 1 3 6]\n"
     ]
    }
   ],
   "source": [
    "workclass_unique_values = features_raw['workclass'].unique()\n",
    "print(workclass_unique_values)\n"
   ]
  },
  {
   "cell_type": "code",
   "execution_count": 124,
   "id": "b8e43ca1",
   "metadata": {},
   "outputs": [
    {
     "name": "stdout",
     "output_type": "stream",
     "text": [
      "[' Bachelors' ' HS-grad' ' 11th' ' Masters' ' 9th' ' Some-college'\n",
      " ' Assoc-acdm' ' 7th-8th' ' Doctorate' ' Assoc-voc' ' Prof-school'\n",
      " ' 5th-6th' ' 10th' ' Preschool' ' 12th' ' 1st-4th']\n"
     ]
    }
   ],
   "source": [
    "workclass_unique_values = data['education_level'].unique()\n",
    "print(workclass_unique_values)"
   ]
  },
  {
   "cell_type": "code",
   "execution_count": 125,
   "id": "777852c7",
   "metadata": {},
   "outputs": [
    {
     "name": "stdout",
     "output_type": "stream",
     "text": [
      "[ 9 11  1 12  6 15  7  5 10  8 14  4  0 13  2  3]\n"
     ]
    }
   ],
   "source": [
    "workclass_unique_values = features_raw['education_level'].unique()\n",
    "print(workclass_unique_values)\n"
   ]
  },
  {
   "cell_type": "code",
   "execution_count": 97,
   "id": "bc4f05b0",
   "metadata": {},
   "outputs": [
    {
     "name": "stdout",
     "output_type": "stream",
     "text": [
      "[39 50 38 53 28 37 49 52 31 42 30 23 32 34 25 43 40 54 35 59 56 19 20 45\n",
      " 22 48 21 24 57 44 41 29 47 46 36 79 27 18 33 76 55 61 70 64 71 66 51 58\n",
      " 26 17 60 90 75 65 77 62 63 67 74 72 69 68 73 81 78 88 80 84 83 85 82 86\n",
      " 89 87]\n"
     ]
    }
   ],
   "source": [
    "workclass_unique_values = features_raw['age'].unique()\n",
    "print(workclass_unique_values)"
   ]
  },
  {
   "cell_type": "code",
   "execution_count": 98,
   "id": "5ed3a2f5",
   "metadata": {},
   "outputs": [
    {
     "name": "stdout",
     "output_type": "stream",
     "text": [
      "[13  9  7 14  5 10 12  4 16 11 15  3  6  1  8  2]\n"
     ]
    }
   ],
   "source": [
    "workclass_unique_values = features_raw['education-num'].unique()\n",
    "print(workclass_unique_values)"
   ]
  },
  {
   "cell_type": "code",
   "execution_count": 127,
   "id": "c9678624",
   "metadata": {},
   "outputs": [
    {
     "name": "stdout",
     "output_type": "stream",
     "text": [
      "[4 2 0 3 5 1 6]\n"
     ]
    }
   ],
   "source": [
    "workclass_unique_values = features_raw['marital-status'].unique()\n",
    "print(workclass_unique_values)"
   ]
  },
  {
   "cell_type": "code",
   "execution_count": 126,
   "id": "530003fd",
   "metadata": {},
   "outputs": [
    {
     "name": "stdout",
     "output_type": "stream",
     "text": [
      "[' Never-married' ' Married-civ-spouse' ' Divorced'\n",
      " ' Married-spouse-absent' ' Separated' ' Married-AF-spouse' ' Widowed']\n"
     ]
    }
   ],
   "source": [
    "workclass_unique_values = data['marital-status'].unique()\n",
    "print(workclass_unique_values)"
   ]
  },
  {
   "cell_type": "code",
   "execution_count": 129,
   "id": "7bbeab40",
   "metadata": {},
   "outputs": [
    {
     "name": "stdout",
     "output_type": "stream",
     "text": [
      "[ 0  3  5  9  7 11 13  4  6 12  2 10  1  8]\n"
     ]
    }
   ],
   "source": [
    "workclass_unique_values = features_raw['occupation'].unique()\n",
    "print(workclass_unique_values)"
   ]
  },
  {
   "cell_type": "code",
   "execution_count": 128,
   "id": "ed4dfd62",
   "metadata": {},
   "outputs": [
    {
     "name": "stdout",
     "output_type": "stream",
     "text": [
      "[' Adm-clerical' ' Exec-managerial' ' Handlers-cleaners' ' Prof-specialty'\n",
      " ' Other-service' ' Sales' ' Transport-moving' ' Farming-fishing'\n",
      " ' Machine-op-inspct' ' Tech-support' ' Craft-repair' ' Protective-serv'\n",
      " ' Armed-Forces' ' Priv-house-serv']\n"
     ]
    }
   ],
   "source": [
    "workclass_unique_values = data['occupation'].unique()\n",
    "print(workclass_unique_values)"
   ]
  },
  {
   "cell_type": "code",
   "execution_count": 130,
   "id": "27c1e232",
   "metadata": {},
   "outputs": [
    {
     "name": "stdout",
     "output_type": "stream",
     "text": [
      "[' Not-in-family' ' Husband' ' Wife' ' Own-child' ' Unmarried'\n",
      " ' Other-relative']\n"
     ]
    }
   ],
   "source": [
    "workclass_unique_values = data['relationship'].unique()\n",
    "print(workclass_unique_values)"
   ]
  },
  {
   "cell_type": "code",
   "execution_count": 131,
   "id": "83e7d519",
   "metadata": {},
   "outputs": [
    {
     "name": "stdout",
     "output_type": "stream",
     "text": [
      "[1 0 5 3 4 2]\n"
     ]
    }
   ],
   "source": [
    "workclass_unique_values = features_raw['relationship'].unique()\n",
    "print(workclass_unique_values)"
   ]
  },
  {
   "cell_type": "code",
   "execution_count": 38,
   "id": "294bc7a9",
   "metadata": {},
   "outputs": [
    {
     "name": "stdout",
     "output_type": "stream",
     "text": [
      "[' White' ' Black' ' Asian-Pac-Islander' ' Amer-Indian-Eskimo' ' Other']\n"
     ]
    }
   ],
   "source": [
    "workclass_unique_values = features_raw['race'].unique()\n",
    "print(workclass_unique_values)"
   ]
  },
  {
   "cell_type": "code",
   "execution_count": 119,
   "id": "67879b34",
   "metadata": {},
   "outputs": [
    {
     "name": "stdout",
     "output_type": "stream",
     "text": [
      "[4 2 1 0 3]\n"
     ]
    }
   ],
   "source": [
    "workclass_unique_values = features_raw['race'].unique()\n",
    "print(workclass_unique_values)"
   ]
  },
  {
   "cell_type": "code",
   "execution_count": 132,
   "id": "b46c89a0",
   "metadata": {},
   "outputs": [
    {
     "name": "stdout",
     "output_type": "stream",
     "text": [
      "[' Male' ' Female']\n"
     ]
    }
   ],
   "source": [
    "workclass_unique_values = data['sex'].unique()\n",
    "print(workclass_unique_values)"
   ]
  },
  {
   "cell_type": "code",
   "execution_count": 133,
   "id": "339e0b02",
   "metadata": {},
   "outputs": [
    {
     "name": "stdout",
     "output_type": "stream",
     "text": [
      "[1 0]\n"
     ]
    }
   ],
   "source": [
    "workclass_unique_values = features_raw['sex'].unique()\n",
    "print(workclass_unique_values)"
   ]
  },
  {
   "cell_type": "code",
   "execution_count": 99,
   "id": "e5a6474e",
   "metadata": {},
   "outputs": [
    {
     "name": "stdout",
     "output_type": "stream",
     "text": [
      "[ 7.68  0.    9.55  8.55  8.52  7.79  9.57  9.62  8.95  8.31  8.39  8.9\n",
      "  7.25  8.21  6.96  7.63  7.69  6.39  9.91  8.83  8.32  9.06  8.14  7.86\n",
      " 10.14  8.44  7.81  8.04  9.27  8.    8.11  8.15  8.49 11.51  8.78  7.29\n",
      "  7.75  7.65  7.97  9.26  7.7   7.99 10.23  8.82  7.71  7.32  9.51  7.88\n",
      "  8.62  8.47  8.24  8.05  8.25  6.82  6.    7.95  8.5   7.76  8.6   7.26\n",
      "  8.09 10.    8.91 10.44  8.27  4.74  7.98  7.05  9.15  7.74  9.67 10.63\n",
      "  8.41  7.84  7.52  8.97  8.65  9.17  8.77  7.28  7.62  8.28  7.51  9.37\n",
      "  8.76  8.45  7.49  8.81  7.61  8.72  7.4   9.82 10.13  8.98  6.9   7.07\n",
      "  7.78  8.53  6.99  7.14  8.89  7.46]\n"
     ]
    }
   ],
   "source": [
    "workclass_unique_values = features_raw['capital-gain'].unique()\n",
    "print(workclass_unique_values)"
   ]
  },
  {
   "cell_type": "code",
   "execution_count": 100,
   "id": "2338be51",
   "metadata": {},
   "outputs": [
    {
     "name": "stdout",
     "output_type": "stream",
     "text": [
      "[0.   7.62 7.25 7.55 7.54 7.45 7.48 7.36 7.69 7.5  7.59 7.2  7.7  7.46\n",
      " 7.3  7.76 7.79 7.23 7.63 7.77 7.42 6.48 7.78 7.32 7.37 7.41 7.4  7.52\n",
      " 7.6  7.72 7.38 7.84 7.8  7.04 7.71 6.44 5.37 7.34 6.78 7.   6.7  7.95\n",
      " 7.85 6.88 7.68 7.67 7.14 7.86 7.73 5.78 7.39 7.51 8.24 7.47 8.21 7.66\n",
      " 8.38 7.64 7.81 6.04 5.05 8.27 7.57 7.92 8.01 7.26 8.06 7.53 7.56]\n"
     ]
    }
   ],
   "source": [
    "workclass_unique_values = features_raw['capital-loss'].unique()\n",
    "print(workclass_unique_values)"
   ]
  },
  {
   "cell_type": "code",
   "execution_count": 101,
   "id": "78d20179",
   "metadata": {},
   "outputs": [
    {
     "name": "stdout",
     "output_type": "stream",
     "text": [
      "[40 13 16 45 50 80 30 35 60 20 52 44 15 25 43 38 55 48 58 32 70 22 56 41\n",
      " 28 36 24 46  2 42 12 65  1 34 75 98 33 54 10  6 64 19 18 72  8  9 47 37\n",
      " 21 26 14  5  7 99 53 39 62 59 57 78 90 66 11 49 84 17 68  3 27 85 31 51\n",
      " 77 63 23  4 87 88 73 89 97 94 29 96 67 82 86 91 81 76 92 61 74 95 79 69]\n"
     ]
    }
   ],
   "source": [
    "workclass_unique_values = features_raw['hours-per-week'].unique()\n",
    "print(workclass_unique_values)"
   ]
  },
  {
   "cell_type": "code",
   "execution_count": 134,
   "id": "288ef585",
   "metadata": {},
   "outputs": [
    {
     "name": "stdout",
     "output_type": "stream",
     "text": [
      "[' United-States' ' Cuba' ' Jamaica' ' India' ' Mexico' ' Puerto-Rico'\n",
      " ' Honduras' ' England' ' Canada' ' Germany' ' Iran' ' Philippines'\n",
      " ' Poland' ' Columbia' ' Cambodia' ' Thailand' ' Ecuador' ' Laos'\n",
      " ' Taiwan' ' Haiti' ' Portugal' ' Dominican-Republic' ' El-Salvador'\n",
      " ' France' ' Guatemala' ' Italy' ' China' ' South' ' Japan' ' Yugoslavia'\n",
      " ' Peru' ' Outlying-US(Guam-USVI-etc)' ' Scotland' ' Trinadad&Tobago'\n",
      " ' Greece' ' Nicaragua' ' Vietnam' ' Hong' ' Ireland' ' Hungary'\n",
      " ' Holand-Netherlands']\n"
     ]
    }
   ],
   "source": [
    "workclass_unique_values = data['native-country'].unique()\n",
    "print(workclass_unique_values)"
   ]
  },
  {
   "cell_type": "code",
   "execution_count": 135,
   "id": "a3a03f57",
   "metadata": {},
   "outputs": [
    {
     "name": "stdout",
     "output_type": "stream",
     "text": [
      "[38  4 22 18 25 32 15  8  1 10 19 29 30  3  0 36  6 24 35 13 31  5  7  9\n",
      " 12 21  2 34 23 40 28 27 33 37 11 26 39 16 20 17 14]\n"
     ]
    }
   ],
   "source": [
    "workclass_unique_values = features_raw['native-country'].unique()\n",
    "print(workclass_unique_values)"
   ]
  },
  {
   "cell_type": "code",
   "execution_count": 104,
   "id": "878354ae",
   "metadata": {},
   "outputs": [
    {
     "name": "stdout",
     "output_type": "stream",
     "text": [
      "Training set has 36177 samples.\n",
      "Testing set has 9045 samples.\n"
     ]
    }
   ],
   "source": [
    "# Import train_test_split\n",
    "from sklearn.model_selection import train_test_split\n",
    "\n",
    "# Split the 'features' and 'income' data into training and testing sets\n",
    "X_train, X_test, y_train, y_test = train_test_split(features_raw, income, test_size = 0.2, random_state = 0)\n",
    "\n",
    "# Show the results of the split\n",
    "print (\"Training set has {} samples.\".format(X_train.shape[0]))\n",
    "print( \"Testing set has {} samples.\".format(X_test.shape[0]))"
   ]
  },
  {
   "cell_type": "code",
   "execution_count": 105,
   "id": "4c31ae0d",
   "metadata": {},
   "outputs": [
    {
     "name": "stdout",
     "output_type": "stream",
     "text": [
      "Decision Tree Accuracy: 0.8134881149806523\n",
      "Random Forest Accuracy: 0.8452183526810393\n",
      "SVM Accuracy: 0.8183526810392482\n",
      "AdaBoost Accuracy: 0.8551686014372581\n",
      "XGBoost Accuracy: 0.8709784411276948\n"
     ]
    }
   ],
   "source": [
    "from sklearn.tree import DecisionTreeClassifier\n",
    "from sklearn.ensemble import RandomForestClassifier, AdaBoostClassifier\n",
    "from sklearn.svm import SVC\n",
    "from xgboost import XGBClassifier\n",
    "from sklearn.metrics import accuracy_score\n",
    "\n",
    "# Train and evaluate Decision Tree classifier\n",
    "dt_clf = DecisionTreeClassifier(random_state=0)\n",
    "dt_clf.fit(X_train, y_train)\n",
    "dt_predictions = dt_clf.predict(X_test)\n",
    "dt_accuracy = accuracy_score(y_test, dt_predictions)\n",
    "print(\"Decision Tree Accuracy:\", dt_accuracy)\n",
    "\n",
    "# Train and evaluate Random Forest classifier\n",
    "rf_clf = RandomForestClassifier(random_state=0)\n",
    "rf_clf.fit(X_train, y_train)\n",
    "rf_predictions = rf_clf.predict(X_test)\n",
    "rf_accuracy = accuracy_score(y_test, rf_predictions)\n",
    "print(\"Random Forest Accuracy:\", rf_accuracy)\n",
    "\n",
    "# Train and evaluate SVM classifier\n",
    "svm_clf = SVC(random_state=0)\n",
    "svm_clf.fit(X_train, y_train)\n",
    "svm_predictions = svm_clf.predict(X_test)\n",
    "svm_accuracy = accuracy_score(y_test, svm_predictions)\n",
    "print(\"SVM Accuracy:\", svm_accuracy)\n",
    "\n",
    "# Train and evaluate AdaBoost classifier\n",
    "ada_clf = AdaBoostClassifier(random_state=0)\n",
    "ada_clf.fit(X_train, y_train)\n",
    "ada_predictions = ada_clf.predict(X_test)\n",
    "ada_accuracy = accuracy_score(y_test, ada_predictions)\n",
    "print(\"AdaBoost Accuracy:\", ada_accuracy)\n",
    "\n",
    "# Train and evaluate XGBoost classifier\n",
    "xgb_clf = XGBClassifier(random_state=0)\n",
    "xgb_clf.fit(X_train, y_train)\n",
    "xgb_predictions = xgb_clf.predict(X_test)\n",
    "xgb_accuracy = accuracy_score(y_test, xgb_predictions)\n",
    "print(\"XGBoost Accuracy:\", xgb_accuracy)\n"
   ]
  },
  {
   "cell_type": "code",
   "execution_count": 67,
   "id": "d7197c74",
   "metadata": {},
   "outputs": [
    {
     "name": "stdout",
     "output_type": "stream",
     "text": [
      "Best XGBoost Accuracy: 0.8688778330569376\n",
      "Best Hyperparameters: {'learning_rate': 0.1, 'max_depth': 3, 'n_estimators': 300}\n"
     ]
    }
   ],
   "source": [
    "from sklearn.model_selection import GridSearchCV\n",
    "from xgboost import XGBClassifier\n",
    "\n",
    "# Define the parameter grid for GridSearchCV\n",
    "param_grid = {\n",
    "    'learning_rate': [0.1, 0.01, 0.001],\n",
    "    'max_depth': [3, 5, 7],\n",
    "    'n_estimators': [100, 200, 300]\n",
    "}\n",
    "\n",
    "# Create an XGBoost classifier\n",
    "xgb_clf = XGBClassifier(random_state=0)\n",
    "\n",
    "# Perform GridSearchCV to find the best hyperparameters\n",
    "grid_search = GridSearchCV(estimator=xgb_clf, param_grid=param_grid, cv=5)\n",
    "grid_search.fit(X_train, y_train)\n",
    "\n",
    "# Get the best hyperparameters and model\n",
    "best_params = grid_search.best_params_\n",
    "best_model = grid_search.best_estimator_\n",
    "\n",
    "# Evaluate the best model on the test set\n",
    "predictions = best_model.predict(X_test)\n",
    "accuracy = accuracy_score(y_test, predictions)\n",
    "print(\"Best XGBoost Accuracy:\", accuracy)\n",
    "print(\"Best Hyperparameters:\", best_params)\n"
   ]
  },
  {
   "cell_type": "code",
   "execution_count": 69,
   "id": "80a7812c",
   "metadata": {},
   "outputs": [
    {
     "name": "stdout",
     "output_type": "stream",
     "text": [
      "Ensemble Model\n",
      "Accuracy score on testing data: 0.8616\n"
     ]
    }
   ],
   "source": [
    "from sklearn.ensemble import VotingClassifier\n",
    "from sklearn.ensemble import RandomForestClassifier\n",
    "from sklearn.svm import SVC\n",
    "from xgboost import XGBClassifier\n",
    "\n",
    "# Initialize the classifiers\n",
    "clf1 = AdaBoostClassifier(base_estimator=DecisionTreeClassifier(random_state=0))\n",
    "clf2 = RandomForestClassifier(random_state=0)\n",
    "clf3 = SVC(random_state=0)\n",
    "clf4 = XGBClassifier(random_state=0)\n",
    "\n",
    "# Create the ensemble classifier\n",
    "ensemble_clf = VotingClassifier(estimators=[('adaboost', clf1), ('randomforest', clf2), ('svm', clf3), ('xgboost', clf4)], voting='hard')\n",
    "\n",
    "# Fit the ensemble classifier on the training data\n",
    "ensemble_clf.fit(X_train, y_train)\n",
    "\n",
    "# Make predictions using the ensemble classifier\n",
    "ensemble_predictions = ensemble_clf.predict(X_test)\n",
    "\n",
    "# Report the accuracy and F-score of the ensemble classifier\n",
    "print(\"Ensemble Model\")\n",
    "print(\"Accuracy score on testing data: {:.4f}\".format(accuracy_score(y_test, ensemble_predictions)))\n"
   ]
  },
  {
   "cell_type": "code",
   "execution_count": 107,
   "id": "9a5ad0cc",
   "metadata": {},
   "outputs": [
    {
     "name": "stdout",
     "output_type": "stream",
     "text": [
      "XGBoost model saved successfully.\n"
     ]
    }
   ],
   "source": [
    "import xgboost as xgb\n",
    "import pickle\n",
    "\n",
    "# Initialize the XGBoost classifier\n",
    "clf = xgb.XGBClassifier()\n",
    "\n",
    "# Fit the classifier to the training data\n",
    "clf.fit(X_train, y_train)\n",
    "\n",
    "# Save the model weights as a pickle file\n",
    "pickle.dump(clf, open('xgboost_model.pkl', 'wb'))\n",
    "\n",
    "print(\"XGBoost model saved successfully.\")\n"
   ]
  },
  {
   "cell_type": "code",
   "execution_count": 114,
   "id": "1f7507dd",
   "metadata": {},
   "outputs": [
    {
     "name": "stdout",
     "output_type": "stream",
     "text": [
      "Accuracy of the XGBoost model: 0.8710\n"
     ]
    }
   ],
   "source": [
    "from sklearn.metrics import accuracy_score\n",
    "\n",
    "# Make predictions on the test data using the trained XGBoost model\n",
    "y_pred = clf.predict(X_test)\n",
    "\n",
    "# Calculate the accuracy of the model\n",
    "accuracy = accuracy_score(y_test, y_pred)\n",
    "\n",
    "# Print the accuracy\n",
    "print(\"Accuracy of the XGBoost model: {:.4f}\".format(accuracy))\n"
   ]
  },
  {
   "cell_type": "code",
   "execution_count": 137,
   "id": "5a39d58f",
   "metadata": {},
   "outputs": [
    {
     "data": {
      "image/png": "[encoded data removed]",
      "text/plain": [
       "<Figure size 576x432 with 2 Axes>"
      ]
     },
     "metadata": {
      "needs_background": "light"
     },
     "output_type": "display_data"
    }
   ],
   "source": [
    "import seaborn as sns\n",
    "import matplotlib.pyplot as plt\n",
    "from sklearn.metrics import confusion_matrix\n",
    "\n",
    "# Calculate the confusion matrix\n",
    "cm = confusion_matrix(y_test, y_pred)\n",
    "\n",
    "# Create a heatmap of the confusion matrix\n",
    "plt.figure(figsize=(8, 6))\n",
    "sns.heatmap(cm, annot=True, fmt=\"d\", cmap=\"Blues\")\n",
    "plt.title(\"Confusion Matrix\")\n",
    "plt.xlabel(\"Predicted Label\")\n",
    "plt.ylabel(\"Actual Label\")\n",
    "plt.show()\n"
   ]
  },
  {
   "cell_type": "code",
   "execution_count": 118,
   "id": "da1dcc1b",
   "metadata": {},
   "outputs": [
    {
     "name": "stdout",
     "output_type": "stream",
     "text": [
      "Accuracy of the XGBoost model: 0.8710\n",
      "Input\t\tActual Label\tPredicted Label\n",
      "age                23.0\n",
      "workclass           2.0\n",
      "education_level     7.0\n",
      "education-num      12.0\n",
      "marital-status      2.0\n",
      "occupation          4.0\n",
      "relationship        5.0\n",
      "race                4.0\n",
      "sex                 0.0\n",
      "capital-gain        0.0\n",
      "capital-loss        0.0\n",
      "hours-per-week     45.0\n",
      "native-country     10.0\n",
      "Name: 41387, dtype: float64\t0\t\t0\n",
      "age                33.0\n",
      "workclass           2.0\n",
      "education_level    11.0\n",
      "education-num       9.0\n",
      "marital-status      2.0\n",
      "occupation          6.0\n",
      "relationship        0.0\n",
      "race                4.0\n",
      "sex                 1.0\n",
      "capital-gain        0.0\n",
      "capital-loss        0.0\n",
      "hours-per-week     55.0\n",
      "native-country     38.0\n",
      "Name: 35278, dtype: float64\t0\t\t0\n",
      "age                39.0\n",
      "workclass           2.0\n",
      "education_level    15.0\n",
      "education-num      10.0\n",
      "marital-status      0.0\n",
      "occupation          3.0\n",
      "relationship        1.0\n",
      "race                4.0\n",
      "sex                 1.0\n",
      "capital-gain        0.0\n",
      "capital-loss        0.0\n",
      "hours-per-week     38.0\n",
      "native-country     38.0\n",
      "Name: 26950, dtype: float64\t0\t\t0\n",
      "age                44.0\n",
      "workclass           2.0\n",
      "education_level     1.0\n",
      "education-num       7.0\n",
      "marital-status      4.0\n",
      "occupation          6.0\n",
      "relationship        4.0\n",
      "race                2.0\n",
      "sex                 0.0\n",
      "capital-gain        0.0\n",
      "capital-loss        0.0\n",
      "hours-per-week     40.0\n",
      "native-country     38.0\n",
      "Name: 29133, dtype: float64\t0\t\t0\n",
      "age                31.0\n",
      "workclass           2.0\n",
      "education_level    11.0\n",
      "education-num       9.0\n",
      "marital-status      2.0\n",
      "occupation          0.0\n",
      "relationship        0.0\n",
      "race                4.0\n",
      "sex                 1.0\n",
      "capital-gain        0.0\n",
      "capital-loss        0.0\n",
      "hours-per-week     40.0\n",
      "native-country     38.0\n",
      "Name: 41794, dtype: float64\t0\t\t0\n",
      "age                63.0\n",
      "workclass           2.0\n",
      "education_level    11.0\n",
      "education-num       9.0\n",
      "marital-status      2.0\n",
      "occupation          6.0\n",
      "relationship        0.0\n",
      "race                4.0\n",
      "sex                 1.0\n",
      "capital-gain        0.0\n",
      "capital-loss        0.0\n",
      "hours-per-week     40.0\n",
      "native-country     38.0\n",
      "Name: 39744, dtype: float64\t1\t\t0\n",
      "age                26.0\n",
      "workclass           2.0\n",
      "education_level    11.0\n",
      "education-num       9.0\n",
      "marital-status      4.0\n",
      "occupation         12.0\n",
      "relationship        4.0\n",
      "race                0.0\n",
      "sex                 0.0\n",
      "capital-gain        0.0\n",
      "capital-loss        0.0\n",
      "hours-per-week     40.0\n",
      "native-country     38.0\n",
      "Name: 32755, dtype: float64\t0\t\t0\n",
      "age                25.00\n",
      "workclass           2.00\n",
      "education_level     8.00\n",
      "education-num      11.00\n",
      "marital-status      4.00\n",
      "occupation         11.00\n",
      "relationship        1.00\n",
      "race                4.00\n",
      "sex                 1.00\n",
      "capital-gain       10.23\n",
      "capital-loss        0.00\n",
      "hours-per-week     40.00\n",
      "native-country     38.00\n",
      "Name: 6016, dtype: float64\t1\t\t1\n",
      "age                21.0\n",
      "workclass           2.0\n",
      "education_level    15.0\n",
      "education-num      10.0\n",
      "marital-status      4.0\n",
      "occupation         11.0\n",
      "relationship        3.0\n",
      "race                4.0\n",
      "sex                 0.0\n",
      "capital-gain        0.0\n",
      "capital-loss        0.0\n",
      "hours-per-week     35.0\n",
      "native-country     38.0\n",
      "Name: 43034, dtype: float64\t0\t\t0\n",
      "age                35.0\n",
      "workclass           2.0\n",
      "education_level     9.0\n",
      "education-num      13.0\n",
      "marital-status      4.0\n",
      "occupation          0.0\n",
      "relationship        1.0\n",
      "race                4.0\n",
      "sex                 0.0\n",
      "capital-gain        0.0\n",
      "capital-loss        0.0\n",
      "hours-per-week     40.0\n",
      "native-country     38.0\n",
      "Name: 12446, dtype: float64\t0\t\t0\n"
     ]
    }
   ],
   "source": [
    "from sklearn.metrics import accuracy_score\n",
    "import pandas as pd\n",
    "\n",
    "# Convert y_test and y_pred to pandas Series\n",
    "y_test_series = pd.Series(y_test)\n",
    "y_pred_series = pd.Series(y_pred)\n",
    "\n",
    "# Calculate the accuracy of the model\n",
    "accuracy = accuracy_score(y_test_series, y_pred_series)\n",
    "\n",
    "# Print the accuracy\n",
    "print(\"Accuracy of the XGBoost model: {:.4f}\".format(accuracy))\n",
    "\n",
    "# Display the actual and predicted labels for the first 10 inputs\n",
    "print(\"Input\\t\\tActual Label\\tPredicted Label\")\n",
    "for i in range(10):\n",
    "    print(\"{}\\t{}\\t\\t{}\".format(X_test.iloc[i], y_test_series.iloc[i], y_pred_series.iloc[i]))\n"
   ]
  },
  {
   "cell_type": "code",
   "execution_count": 136,
   "id": "4269879c",
   "metadata": {},
   "outputs": [
    {
     "name": "stdout",
     "output_type": "stream",
     "text": [
      "[0]\n"
     ]
    }
   ],
   "source": [
    "import pandas as pd\n",
    "import joblib\n",
    "from sklearn.preprocessing import LabelEncoder\n",
    "\n",
    "# Load the XGBoost model\n",
    "model = joblib.load('xgboost_model.pkl')\n",
    "\n",
    "# Load the input data\n",
    "input_data = pd.DataFrame({\n",
    "    'age': [39],\n",
    "    'workclass': ['State-gov'],\n",
    "    'education_level': ['Bachelors'],\n",
    "    'education-num': [13],\n",
    "    'marital-status': ['Never-married'],\n",
    "    'occupation': ['Adm-clerical'],\n",
    "    'relationship': ['Not-in-family'],\n",
    "    'race': ['White'],\n",
    "    'sex': ['Male'],\n",
    "    'capital-gain': [7.68],\n",
    "    'capital-loss': [0.0],\n",
    "    'hours-per-week': [40],\n",
    "    'native-country': ['United-States']\n",
    "})\n",
    "\n",
    "# Label encode the categorical columns\n",
    "categorical_columns = ['workclass', 'education_level', 'marital-status', 'occupation', 'relationship', 'race', 'sex', 'native-country']\n",
    "label_encoder = LabelEncoder()\n",
    "for column in categorical_columns:\n",
    "    input_data[column] = label_encoder.fit_transform(input_data[column])\n",
    "\n",
    "# Make predictions\n",
    "predictions = model.predict(input_data)\n",
    "\n",
    "# Print the predictions\n",
    "print(predictions)\n"
   ]
  },
  {
   "cell_type": "code",
   "execution_count": 138,
   "id": "5ae67591",
   "metadata": {},
   "outputs": [
    {
     "name": "stdout",
     "output_type": "stream",
     "text": [
      "[1]\n"
     ]
    }
   ],
   "source": [
    "import pandas as pd\n",
    "import joblib\n",
    "from sklearn.preprocessing import LabelEncoder\n",
    "\n",
    "# Load the XGBoost model\n",
    "model = joblib.load('xgboost_model.pkl')\n",
    "\n",
    "# Load the input data\n",
    "input_data = pd.DataFrame({\n",
    "    'age': [25],\n",
    "    'workclass': ['Private'],\n",
    "    'education_level': ['Some-college'],\n",
    "    'education-num': [11],\n",
    "    'marital-status': ['Separated'],\n",
    "    'occupation': ['Machine-op-inspct'],\n",
    "    'relationship': ['Not-in-family'],\n",
    "    'race': ['Other'],\n",
    "    'sex': ['Male'],\n",
    "    'capital-gain': [10.23],\n",
    "    'capital-loss': [0.0],\n",
    "    'hours-per-week': [40],\n",
    "    'native-country': ['United-States']\n",
    "})\n",
    "\n",
    "# Label encode the categorical columns\n",
    "categorical_columns = ['workclass', 'education_level', 'marital-status', 'occupation', 'relationship', 'race', 'sex', 'native-country']\n",
    "label_encoder = LabelEncoder()\n",
    "for column in categorical_columns:\n",
    "    input_data[column] = label_encoder.fit_transform(input_data[column])\n",
    "\n",
    "# Make predictions\n",
    "predictions = model.predict(input_data)\n",
    "\n",
    "# Print the predictions\n",
    "print(predictions)\n"
   ]
  },
  {
   "cell_type": "code",
   "execution_count": 139,
   "id": "5027a66c",
   "metadata": {},
   "outputs": [
    {
     "data": {
      "image/png": "[encoded data removed]",
      "text/plain": [
       "<Figure size 648x360 with 1 Axes>"
      ]
     },
     "metadata": {
      "needs_background": "light"
     },
     "output_type": "display_data"
    }
   ],
   "source": [
    "# TODO: Import a supervised learning model that has 'feature_importances_'\n",
    "\n",
    "# TODO: Train the supervised model on the training set \n",
    "model = model.fit(X_train,y_train)\n",
    "\n",
    "# TODO: Extract the feature importances\n",
    "importances = model.feature_importances_\n",
    "\n",
    "# Plot\n",
    "vs.feature_plot(importances, X_train, y_train)"
   ]
  },
  {
   "cell_type": "code",
   "execution_count": null,
   "id": "b4fde1e9",
   "metadata": {},
   "outputs": [],
   "source": []
  }
 ],
 "metadata": {
  "kernelspec": {
   "display_name": "Python 3 (ipykernel)",
   "language": "python",
   "name": "python3"
  },
  "language_info": {
   "codemirror_mode": {
    "name": "ipython",
    "version": 3
   },
   "file_extension": ".py",
   "mimetype": "text/x-python",
   "name": "python",
   "nbconvert_exporter": "python",
   "pygments_lexer": "ipython3",
   "version": "3.10.2"
  }
 },
 "nbformat": 4,
 "nbformat_minor": 5
}
